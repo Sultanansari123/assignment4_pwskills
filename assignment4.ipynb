{
 "cells": [
  {
   "cell_type": "markdown",
   "id": "fa8dd9d4-863c-4318-a682-50726271e318",
   "metadata": {},
   "source": [
    "# Ans1-"
   ]
  },
  {
   "cell_type": "markdown",
   "id": "182cad13-bf28-40f7-bf0a-e03f2f265a71",
   "metadata": {},
   "source": [
    "A decision tree classifier is a supervised machine learning algorithm that is used for both classification and regression tasks. In the context of classification, a decision tree helps to classify an input data point into one of several predefined classes. The decision tree is constructed by recursively partitioning the data based on features, leading to a tree-like structure of decision nodes and leaf nodes."
   ]
  },
  {
   "cell_type": "markdown",
   "id": "a7c04e39-ebe6-492c-a801-41e02710001f",
   "metadata": {},
   "source": [
    "Node Selection:\n",
    "\n",
    "The algorithm starts with the entire dataset at the root node.\n",
    "It selects the best feature among all available features to split the dataset. The \"best\" feature is chosen based on a criterion like Gini impurity, entropy, or information gain.\n",
    "Splitting:\n",
    "\n",
    "The chosen feature is used to split the dataset into subsets. Each subset corresponds to a unique value of the chosen feature.\n",
    "This process is recursively applied to each subset, creating a tree structure.\n",
    "Stopping Criteria:\n",
    "\n",
    "The algorithm continues splitting until a stopping criteria is met. This could be a maximum depth of the tree, a minimum number of samples in a node, or other criteria to prevent overfitting.\n",
    "Leaf Nodes:\n",
    "\n",
    "When the stopping criteria are met, the nodes that do not split further become leaf nodes.\n",
    "Each leaf node represents a class label for classification problems.\n",
    "Prediction:\n",
    "\n",
    "To make a prediction for a new data point, it traverses the decision tree from the root to a leaf node."
   ]
  },
  {
   "cell_type": "markdown",
   "id": "22a4c879-7930-45c7-9bfe-08b3caa0ea13",
   "metadata": {},
   "source": [
    "# Ans2-"
   ]
  },
  {
   "cell_type": "markdown",
   "id": "51afe616-b5a4-4cc1-9f48-cad556b5763c",
   "metadata": {},
   "source": [
    " the decision tree algorithm builds a tree structure based on the Information Gain or Gini impurity at each step, recursively splitting the data until a stopping criterion is met. The resulting tree is used for making predictions on new, unseen data.\n",
    "\n",
    "\n",
    "\n",
    "\n",
    "\n"
   ]
  },
  {
   "cell_type": "markdown",
   "id": "2db97e95-8769-428c-bb72-2b0783609729",
   "metadata": {},
   "source": [
    "# Ans3-"
   ]
  },
  {
   "cell_type": "markdown",
   "id": "ddf5d03a-ecc6-48bb-ac2d-506c924242d2",
   "metadata": {},
   "source": [
    " a decision tree classifier works by recursively splitting the dataset based on the features that provide the most information, ultimately creating a tree structure that can be used for classification. The simplicity and interpretability of decision trees make them useful for a variety of binary classification tasks."
   ]
  },
  {
   "cell_type": "markdown",
   "id": "6b672111-9a48-46c7-b5c7-c99d2fae4a05",
   "metadata": {},
   "source": [
    "# Ans5-"
   ]
  },
  {
   "cell_type": "markdown",
   "id": "222db0f3-7d8d-467e-a5dc-1d4e6a4d2457",
   "metadata": {},
   "source": [
    "The confusion matrix is a table that summarizes the performance of a classification model. It compares the predicted classifications with the actual true classes and consists of four entries:\n",
    "\n",
    "True Positive (TP): Instances correctly predicted as positive.\n",
    "True Negative (TN): Instances correctly predicted as negative.\n",
    "False Positive (FP): Instances incorrectly predicted as positive (Type I error).\n",
    "False Negative (FN): Instances incorrectly predicted as negative (Type II error).\n",
    "The confusion matrix is used to calculate various evaluation metrics, such as accuracy, precision, recall, and F1-score, which provide insights into the model's performance. These metrics help assess how well the model is correctly identifying instances of interest and avoiding misclassifications."
   ]
  },
  {
   "cell_type": "markdown",
   "id": "ddaa604a-6af8-4746-91a8-f596286fc478",
   "metadata": {},
   "source": [
    "# Ans6-"
   ]
  },
  {
   "cell_type": "markdown",
   "id": "5bd3af4c-eafc-4792-9430-701180877443",
   "metadata": {},
   "source": [
    "True Positive (TP): The number of emails correctly predicted as spam.\n",
    "True Negative (TN): The number of emails correctly predicted as not spam.\n",
    "False Positive (FP): The number of emails incorrectly predicted as spam (actually not spam).\n",
    "False Negative (FN): The number of emails incorrectly predicted as not spam (actually spam)."
   ]
  },
  {
   "cell_type": "markdown",
   "id": "b24408a1-238d-4a15-b21d-a7196ea9ba0a",
   "metadata": {},
   "source": [
    "Precision measures the accuracy of the positive predictions. It is the ratio of correctly predicted positive observations to the total predicted positives."
   ]
  },
  {
   "cell_type": "markdown",
   "id": "7a3db327-35a9-4882-a734-83185837dbf4",
   "metadata": {},
   "source": [
    "precision=TP/TP+FP\n"
   ]
  },
  {
   "cell_type": "markdown",
   "id": "a4e49ad7-fd18-4073-990a-58f04df298f7",
   "metadata": {},
   "source": [
    "Recall measures the ability of the model to capture all the relevant instances. It is the ratio of correctly predicted positive observations to the total actual positives."
   ]
  },
  {
   "cell_type": "markdown",
   "id": "a8c83aed-a92e-4cbe-90f3-7bc244f41bdd",
   "metadata": {},
   "source": [
    "recall=TP/TP+FN"
   ]
  },
  {
   "cell_type": "markdown",
   "id": "d8512b9c-d5ed-4e70-ad90-29c3a2ec8ec5",
   "metadata": {},
   "source": [
    "he F1 score is the harmonic mean of precision and recall. It provides a balanced measure that considers both false positives and false negatives."
   ]
  },
  {
   "cell_type": "markdown",
   "id": "b68b3394-0932-4b1f-adf6-fb027a812a7a",
   "metadata": {},
   "source": [
    "F1 score=2*precison*recall/precison+recall"
   ]
  },
  {
   "cell_type": "markdown",
   "id": "43dc5a77-bc49-4afa-a7b0-99fab23d9c21",
   "metadata": {},
   "source": [
    "# Ans7-"
   ]
  },
  {
   "cell_type": "markdown",
   "id": "7286a581-1822-4956-a54c-b411a440ddc8",
   "metadata": {},
   "source": [
    "the choice of an evaluation metric should be a thoughtful decision based on the specific characteristics of the problem and the goals of the application. It is essential to consider both the practical implications of model decisions and the distribution of classes in the dataset."
   ]
  },
  {
   "cell_type": "markdown",
   "id": "2b5f5644-eb3a-4f65-b380-46a8e1c40860",
   "metadata": {},
   "source": [
    "# Ans8-"
   ]
  },
  {
   "cell_type": "markdown",
   "id": "e2b00dfe-c7ac-4868-a6d8-ba0e28fa6fc5",
   "metadata": {},
   "source": [
    "\n",
    "Example: Fraud detection in credit card transactions, where precision is crucial to minimize false positives and avoid blocking legitimate transactions"
   ]
  },
  {
   "cell_type": "markdown",
   "id": "699e1116-19e3-42a6-a08f-a3c07b7a4185",
   "metadata": {},
   "source": [
    "# Ans9-"
   ]
  },
  {
   "cell_type": "markdown",
   "id": "fb3d9678-eae3-4360-b6ae-a9b3c29b280e",
   "metadata": {},
   "source": [
    "\n",
    "Example: Medical diagnosis for a life-threatening disease, where recall is crucial to identify all positive cases, minimizing the risk of false negatives and ensuring timely treatment."
   ]
  },
  {
   "cell_type": "code",
   "execution_count": null,
   "id": "7b3c2b3b-8c4e-4227-b113-868a2af5aa6b",
   "metadata": {},
   "outputs": [],
   "source": []
  }
 ],
 "metadata": {
  "kernelspec": {
   "display_name": "Python 3 (ipykernel)",
   "language": "python",
   "name": "python3"
  },
  "language_info": {
   "codemirror_mode": {
    "name": "ipython",
    "version": 3
   },
   "file_extension": ".py",
   "mimetype": "text/x-python",
   "name": "python",
   "nbconvert_exporter": "python",
   "pygments_lexer": "ipython3",
   "version": "3.10.8"
  }
 },
 "nbformat": 4,
 "nbformat_minor": 5
}
